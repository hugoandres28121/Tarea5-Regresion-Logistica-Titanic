{
 "cells": [
  {
   "cell_type": "markdown",
   "id": "d3997bb4",
   "metadata": {},
   "source": [
    "<h1>Modelo De Regresion Logistica<h1>"
   ]
  },
  {
   "cell_type": "markdown",
   "id": "3f2896a2",
   "metadata": {},
   "source": [
    "**Carga de Dataset**"
   ]
  },
  {
   "cell_type": "code",
   "execution_count": 1,
   "id": "c93a46a8",
   "metadata": {},
   "outputs": [],
   "source": [
    "#Importe de librerias Para EDA\n",
    "from sklearn.impute import SimpleImputer\n",
    "import seaborn as sns\n",
    "import pandas as pd\n",
    "import numpy as np\n",
    "import matplotlib.pyplot as plt\n",
    "import statsmodels.api as sm\n",
    "from sklearn.model_selection import train_test_split\n",
    "from sklearn.metrics import mean_squared_error, r2_score\n",
    "\n"
   ]
  },
  {
   "cell_type": "code",
   "execution_count": 2,
   "id": "a5260568",
   "metadata": {},
   "outputs": [],
   "source": [
    "#Carga de DataSet\n",
    "df = pd.read_csv(\"./Titanic-Dataset.csv\")\n"
   ]
  },
  {
   "cell_type": "markdown",
   "id": "32e05a2a",
   "metadata": {},
   "source": [
    "<h1>Analisis Exploratorio de Datos<h1>"
   ]
  },
  {
   "cell_type": "code",
   "execution_count": 3,
   "id": "7a346102",
   "metadata": {},
   "outputs": [
    {
     "data": {
      "text/html": [
       "<div>\n",
       "<style scoped>\n",
       "    .dataframe tbody tr th:only-of-type {\n",
       "        vertical-align: middle;\n",
       "    }\n",
       "\n",
       "    .dataframe tbody tr th {\n",
       "        vertical-align: top;\n",
       "    }\n",
       "\n",
       "    .dataframe thead th {\n",
       "        text-align: right;\n",
       "    }\n",
       "</style>\n",
       "<table border=\"1\" class=\"dataframe\">\n",
       "  <thead>\n",
       "    <tr style=\"text-align: right;\">\n",
       "      <th></th>\n",
       "      <th>PassengerId</th>\n",
       "      <th>Survived</th>\n",
       "      <th>Pclass</th>\n",
       "      <th>Name</th>\n",
       "      <th>Sex</th>\n",
       "      <th>Age</th>\n",
       "      <th>SibSp</th>\n",
       "      <th>Parch</th>\n",
       "      <th>Ticket</th>\n",
       "      <th>Fare</th>\n",
       "      <th>Cabin</th>\n",
       "      <th>Embarked</th>\n",
       "    </tr>\n",
       "  </thead>\n",
       "  <tbody>\n",
       "    <tr>\n",
       "      <th>0</th>\n",
       "      <td>1</td>\n",
       "      <td>0</td>\n",
       "      <td>3</td>\n",
       "      <td>Braund, Mr. Owen Harris</td>\n",
       "      <td>male</td>\n",
       "      <td>22.0</td>\n",
       "      <td>1</td>\n",
       "      <td>0</td>\n",
       "      <td>A/5 21171</td>\n",
       "      <td>7.2500</td>\n",
       "      <td>NaN</td>\n",
       "      <td>S</td>\n",
       "    </tr>\n",
       "    <tr>\n",
       "      <th>1</th>\n",
       "      <td>2</td>\n",
       "      <td>1</td>\n",
       "      <td>1</td>\n",
       "      <td>Cumings, Mrs. John Bradley (Florence Briggs Th...</td>\n",
       "      <td>female</td>\n",
       "      <td>38.0</td>\n",
       "      <td>1</td>\n",
       "      <td>0</td>\n",
       "      <td>PC 17599</td>\n",
       "      <td>71.2833</td>\n",
       "      <td>C85</td>\n",
       "      <td>C</td>\n",
       "    </tr>\n",
       "    <tr>\n",
       "      <th>2</th>\n",
       "      <td>3</td>\n",
       "      <td>1</td>\n",
       "      <td>3</td>\n",
       "      <td>Heikkinen, Miss. Laina</td>\n",
       "      <td>female</td>\n",
       "      <td>26.0</td>\n",
       "      <td>0</td>\n",
       "      <td>0</td>\n",
       "      <td>STON/O2. 3101282</td>\n",
       "      <td>7.9250</td>\n",
       "      <td>NaN</td>\n",
       "      <td>S</td>\n",
       "    </tr>\n",
       "    <tr>\n",
       "      <th>3</th>\n",
       "      <td>4</td>\n",
       "      <td>1</td>\n",
       "      <td>1</td>\n",
       "      <td>Futrelle, Mrs. Jacques Heath (Lily May Peel)</td>\n",
       "      <td>female</td>\n",
       "      <td>35.0</td>\n",
       "      <td>1</td>\n",
       "      <td>0</td>\n",
       "      <td>113803</td>\n",
       "      <td>53.1000</td>\n",
       "      <td>C123</td>\n",
       "      <td>S</td>\n",
       "    </tr>\n",
       "    <tr>\n",
       "      <th>4</th>\n",
       "      <td>5</td>\n",
       "      <td>0</td>\n",
       "      <td>3</td>\n",
       "      <td>Allen, Mr. William Henry</td>\n",
       "      <td>male</td>\n",
       "      <td>35.0</td>\n",
       "      <td>0</td>\n",
       "      <td>0</td>\n",
       "      <td>373450</td>\n",
       "      <td>8.0500</td>\n",
       "      <td>NaN</td>\n",
       "      <td>S</td>\n",
       "    </tr>\n",
       "  </tbody>\n",
       "</table>\n",
       "</div>"
      ],
      "text/plain": [
       "   PassengerId  Survived  Pclass  \\\n",
       "0            1         0       3   \n",
       "1            2         1       1   \n",
       "2            3         1       3   \n",
       "3            4         1       1   \n",
       "4            5         0       3   \n",
       "\n",
       "                                                Name     Sex   Age  SibSp  \\\n",
       "0                            Braund, Mr. Owen Harris    male  22.0      1   \n",
       "1  Cumings, Mrs. John Bradley (Florence Briggs Th...  female  38.0      1   \n",
       "2                             Heikkinen, Miss. Laina  female  26.0      0   \n",
       "3       Futrelle, Mrs. Jacques Heath (Lily May Peel)  female  35.0      1   \n",
       "4                           Allen, Mr. William Henry    male  35.0      0   \n",
       "\n",
       "   Parch            Ticket     Fare Cabin Embarked  \n",
       "0      0         A/5 21171   7.2500   NaN        S  \n",
       "1      0          PC 17599  71.2833   C85        C  \n",
       "2      0  STON/O2. 3101282   7.9250   NaN        S  \n",
       "3      0            113803  53.1000  C123        S  \n",
       "4      0            373450   8.0500   NaN        S  "
      ]
     },
     "execution_count": 3,
     "metadata": {},
     "output_type": "execute_result"
    }
   ],
   "source": [
    "df.head()"
   ]
  },
  {
   "cell_type": "markdown",
   "id": "5b41c0bc",
   "metadata": {},
   "source": [
    "<h3>Informacion General del Dataset<h3>"
   ]
  },
  {
   "cell_type": "code",
   "execution_count": 4,
   "id": "2e82a382",
   "metadata": {},
   "outputs": [
    {
     "name": "stdout",
     "output_type": "stream",
     "text": [
      "Numero de Filas y Columnas (891, 12)\n",
      "<class 'pandas.core.frame.DataFrame'>\n",
      "RangeIndex: 891 entries, 0 to 890\n",
      "Data columns (total 12 columns):\n",
      " #   Column       Non-Null Count  Dtype  \n",
      "---  ------       --------------  -----  \n",
      " 0   PassengerId  891 non-null    int64  \n",
      " 1   Survived     891 non-null    int64  \n",
      " 2   Pclass       891 non-null    int64  \n",
      " 3   Name         891 non-null    object \n",
      " 4   Sex          891 non-null    object \n",
      " 5   Age          714 non-null    float64\n",
      " 6   SibSp        891 non-null    int64  \n",
      " 7   Parch        891 non-null    int64  \n",
      " 8   Ticket       891 non-null    object \n",
      " 9   Fare         891 non-null    float64\n",
      " 10  Cabin        204 non-null    object \n",
      " 11  Embarked     889 non-null    object \n",
      "dtypes: float64(2), int64(5), object(5)\n",
      "memory usage: 83.7+ KB\n",
      "None\n"
     ]
    }
   ],
   "source": [
    "\n",
    "#Informacion General del DataSet\n",
    "\n",
    "print(\"Numero de Filas y Columnas\",df.shape)\n",
    "\n",
    "\n",
    "#Informacion General de los datos\n",
    "print(df.info())\n",
    "\n"
   ]
  },
  {
   "cell_type": "markdown",
   "id": "363703c3",
   "metadata": {},
   "source": [
    "**Descripcion General de los Datos**\n",
    "\n",
    "Encontramos que el DataSet cuenta con alrededor de ***891*** registros y ***12*** Columnas."
   ]
  },
  {
   "cell_type": "markdown",
   "id": "4202b3d1",
   "metadata": {},
   "source": [
    "<h3>Diccionario De Data<h3>"
   ]
  },
  {
   "cell_type": "code",
   "execution_count": 5,
   "id": "2c4e5c5c",
   "metadata": {},
   "outputs": [
    {
     "data": {
      "text/html": [
       "<div>\n",
       "<style scoped>\n",
       "    .dataframe tbody tr th:only-of-type {\n",
       "        vertical-align: middle;\n",
       "    }\n",
       "\n",
       "    .dataframe tbody tr th {\n",
       "        vertical-align: top;\n",
       "    }\n",
       "\n",
       "    .dataframe thead th {\n",
       "        text-align: right;\n",
       "    }\n",
       "</style>\n",
       "<table border=\"1\" class=\"dataframe\">\n",
       "  <thead>\n",
       "    <tr style=\"text-align: right;\">\n",
       "      <th></th>\n",
       "      <th>PassengerId</th>\n",
       "      <th>Survived</th>\n",
       "      <th>Pclass</th>\n",
       "      <th>Age</th>\n",
       "      <th>SibSp</th>\n",
       "      <th>Parch</th>\n",
       "      <th>Fare</th>\n",
       "    </tr>\n",
       "  </thead>\n",
       "  <tbody>\n",
       "    <tr>\n",
       "      <th>count</th>\n",
       "      <td>891.000000</td>\n",
       "      <td>891.000000</td>\n",
       "      <td>891.000000</td>\n",
       "      <td>714.000000</td>\n",
       "      <td>891.000000</td>\n",
       "      <td>891.000000</td>\n",
       "      <td>891.000000</td>\n",
       "    </tr>\n",
       "    <tr>\n",
       "      <th>mean</th>\n",
       "      <td>446.000000</td>\n",
       "      <td>0.383838</td>\n",
       "      <td>2.308642</td>\n",
       "      <td>29.699118</td>\n",
       "      <td>0.523008</td>\n",
       "      <td>0.381594</td>\n",
       "      <td>32.204208</td>\n",
       "    </tr>\n",
       "    <tr>\n",
       "      <th>std</th>\n",
       "      <td>257.353842</td>\n",
       "      <td>0.486592</td>\n",
       "      <td>0.836071</td>\n",
       "      <td>14.526497</td>\n",
       "      <td>1.102743</td>\n",
       "      <td>0.806057</td>\n",
       "      <td>49.693429</td>\n",
       "    </tr>\n",
       "    <tr>\n",
       "      <th>min</th>\n",
       "      <td>1.000000</td>\n",
       "      <td>0.000000</td>\n",
       "      <td>1.000000</td>\n",
       "      <td>0.420000</td>\n",
       "      <td>0.000000</td>\n",
       "      <td>0.000000</td>\n",
       "      <td>0.000000</td>\n",
       "    </tr>\n",
       "    <tr>\n",
       "      <th>25%</th>\n",
       "      <td>223.500000</td>\n",
       "      <td>0.000000</td>\n",
       "      <td>2.000000</td>\n",
       "      <td>20.125000</td>\n",
       "      <td>0.000000</td>\n",
       "      <td>0.000000</td>\n",
       "      <td>7.910400</td>\n",
       "    </tr>\n",
       "    <tr>\n",
       "      <th>50%</th>\n",
       "      <td>446.000000</td>\n",
       "      <td>0.000000</td>\n",
       "      <td>3.000000</td>\n",
       "      <td>28.000000</td>\n",
       "      <td>0.000000</td>\n",
       "      <td>0.000000</td>\n",
       "      <td>14.454200</td>\n",
       "    </tr>\n",
       "    <tr>\n",
       "      <th>75%</th>\n",
       "      <td>668.500000</td>\n",
       "      <td>1.000000</td>\n",
       "      <td>3.000000</td>\n",
       "      <td>38.000000</td>\n",
       "      <td>1.000000</td>\n",
       "      <td>0.000000</td>\n",
       "      <td>31.000000</td>\n",
       "    </tr>\n",
       "    <tr>\n",
       "      <th>max</th>\n",
       "      <td>891.000000</td>\n",
       "      <td>1.000000</td>\n",
       "      <td>3.000000</td>\n",
       "      <td>80.000000</td>\n",
       "      <td>8.000000</td>\n",
       "      <td>6.000000</td>\n",
       "      <td>512.329200</td>\n",
       "    </tr>\n",
       "  </tbody>\n",
       "</table>\n",
       "</div>"
      ],
      "text/plain": [
       "       PassengerId    Survived      Pclass         Age       SibSp  \\\n",
       "count   891.000000  891.000000  891.000000  714.000000  891.000000   \n",
       "mean    446.000000    0.383838    2.308642   29.699118    0.523008   \n",
       "std     257.353842    0.486592    0.836071   14.526497    1.102743   \n",
       "min       1.000000    0.000000    1.000000    0.420000    0.000000   \n",
       "25%     223.500000    0.000000    2.000000   20.125000    0.000000   \n",
       "50%     446.000000    0.000000    3.000000   28.000000    0.000000   \n",
       "75%     668.500000    1.000000    3.000000   38.000000    1.000000   \n",
       "max     891.000000    1.000000    3.000000   80.000000    8.000000   \n",
       "\n",
       "            Parch        Fare  \n",
       "count  891.000000  891.000000  \n",
       "mean     0.381594   32.204208  \n",
       "std      0.806057   49.693429  \n",
       "min      0.000000    0.000000  \n",
       "25%      0.000000    7.910400  \n",
       "50%      0.000000   14.454200  \n",
       "75%      0.000000   31.000000  \n",
       "max      6.000000  512.329200  "
      ]
     },
     "execution_count": 5,
     "metadata": {},
     "output_type": "execute_result"
    }
   ],
   "source": [
    "#Estadisticas Descriptivas\n",
    "df.describe()\n"
   ]
  },
  {
   "cell_type": "markdown",
   "id": "2640561a",
   "metadata": {},
   "source": [
    "<h3>Verificar Valores Nulos<h3>"
   ]
  },
  {
   "cell_type": "code",
   "execution_count": 6,
   "id": "d88c6704",
   "metadata": {},
   "outputs": [
    {
     "name": "stdout",
     "output_type": "stream",
     "text": [
      "PassengerId      0\n",
      "Survived         0\n",
      "Pclass           0\n",
      "Name             0\n",
      "Sex              0\n",
      "Age            177\n",
      "SibSp            0\n",
      "Parch            0\n",
      "Ticket           0\n",
      "Fare             0\n",
      "Cabin          687\n",
      "Embarked         2\n",
      "dtype: int64\n"
     ]
    }
   ],
   "source": [
    "#verificar Valores Nulos\n",
    "print(df.isnull().sum())"
   ]
  },
  {
   "cell_type": "markdown",
   "id": "e3d1faf1",
   "metadata": {},
   "source": [
    "**NOTA**:Existen varios campos con valores Faltantes, tanto en Datos categoricos, como en datos numericos."
   ]
  },
  {
   "cell_type": "markdown",
   "id": "048412f1",
   "metadata": {},
   "source": [
    "<h3>Deteccion de Columnas Numericas con Datos Faltantes<h3>"
   ]
  },
  {
   "cell_type": "code",
   "execution_count": 7,
   "id": "e39d133d",
   "metadata": {},
   "outputs": [
    {
     "name": "stdout",
     "output_type": "stream",
     "text": [
      "Index(['Age'], dtype='object')\n"
     ]
    }
   ],
   "source": [
    "# Identificar columnas numéricas\n",
    "columnas_numericas = df.select_dtypes(include=['number'])\n",
    "\n",
    "# Verificar cuáles de las columnas numéricas tienen valores nulos\n",
    "columnas_con_nulos_numericos = columnas_numericas.columns[columnas_numericas.isnull().sum() > 0]\n",
    "\n",
    "# Mostrar las columnas numéricas que tienen valores nulos\n",
    "print(columnas_con_nulos_numericos)\n"
   ]
  },
  {
   "cell_type": "markdown",
   "id": "4d464c9c",
   "metadata": {},
   "source": [
    "**Imputacion Columnas Numericas faltantes**\n"
   ]
  },
  {
   "cell_type": "code",
   "execution_count": 8,
   "id": "02bc0305",
   "metadata": {},
   "outputs": [
    {
     "name": "stdout",
     "output_type": "stream",
     "text": [
      "PassengerId      0\n",
      "Survived         0\n",
      "Pclass           0\n",
      "Name             0\n",
      "Sex              0\n",
      "Age              0\n",
      "SibSp            0\n",
      "Parch            0\n",
      "Ticket           0\n",
      "Fare             0\n",
      "Cabin          687\n",
      "Embarked         2\n",
      "dtype: int64\n"
     ]
    }
   ],
   "source": [
    "#Segun las columnas con valores nulos,vamos a imputarlos por la mediana usando SimpleImputer\n",
    "\n",
    "imputacion_mediana=SimpleImputer(strategy=\"median\")\n",
    "\n",
    "for col in columnas_con_nulos_numericos:\n",
    "    columna=df[[col]]\n",
    "    df[col]=imputacion_mediana.fit_transform(columna)\n",
    "\n",
    "#Comprobamos que hayan desaparecido los valores nulos en las columnas numericas    \n",
    "print(df.isnull().sum())\n"
   ]
  },
  {
   "cell_type": "markdown",
   "id": "4e30ddb2",
   "metadata": {},
   "source": [
    "<h3>Deteccion de Columnas con Datos Categoricos Faltantes<h3>\n"
   ]
  },
  {
   "cell_type": "code",
   "execution_count": 9,
   "id": "7e9c08f7",
   "metadata": {},
   "outputs": [
    {
     "name": "stdout",
     "output_type": "stream",
     "text": [
      "Index(['Cabin', 'Embarked'], dtype='object')\n"
     ]
    }
   ],
   "source": [
    "#  Identificar columnas con datos categoricos\n",
    "columnas_categoricas = df.select_dtypes(include=['object'])\n",
    "\n",
    "#  Verificar cuáles de las columnas categoricas tienen valores nulos\n",
    "columnas_con_nulos_categoricos = columnas_categoricas.columns[columnas_categoricas.isnull().sum() > 0]\n",
    "\n",
    "# Mostrar las columnas categocias que tienen valores nulos\n",
    "print(columnas_con_nulos_categoricos)"
   ]
  },
  {
   "cell_type": "markdown",
   "id": "42fe488b",
   "metadata": {},
   "source": [
    "<h4>Para El desarrollo de este ejercicio no contaremos con Cabin o Embarked pues consideramos que existen otras caracteristicas mas relevantes para la aplicacion del modelo de regresion Logistica. <h4>"
   ]
  },
  {
   "cell_type": "code",
   "execution_count": 10,
   "id": "975398a0",
   "metadata": {},
   "outputs": [
    {
     "data": {
      "text/plain": [
       "PassengerId      0\n",
       "Survived         0\n",
       "Pclass           0\n",
       "Name             0\n",
       "Sex              0\n",
       "Age              0\n",
       "SibSp            0\n",
       "Parch            0\n",
       "Ticket           0\n",
       "Fare             0\n",
       "Cabin          687\n",
       "Embarked         2\n",
       "dtype: int64"
      ]
     },
     "execution_count": 10,
     "metadata": {},
     "output_type": "execute_result"
    }
   ],
   "source": [
    "df.isnull().sum()"
   ]
  },
  {
   "cell_type": "markdown",
   "id": "19a84be9",
   "metadata": {},
   "source": [
    "<h3>Deteccion de Datos Atipicos<h3>"
   ]
  },
  {
   "cell_type": "code",
   "execution_count": 11,
   "id": "000fb127",
   "metadata": {},
   "outputs": [],
   "source": [
    "# Función para detectar valores atípicos Extremos Usando rango Intercualtilico\n",
    "\n",
    "def detectar_atipicos(data):\n",
    "    Q1 = data.quantile(0.25)  # Primer cuartil\n",
    "    Q3 = data.quantile(0.75)  # Tercer cuartil\n",
    "    IQR = Q3 - Q1  # Rango intercuartílico\n",
    "    limite_inferior = Q1 - 3 * IQR  # Límite inferior\n",
    "    limite_superior = Q3 + 3 * IQR  # Límite superior\n",
    "    return data[(data < limite_inferior) | (data > limite_superior)]\n",
    "\n",
    "#  Aplicar la función a cada columna numérica y guardar resultados\n",
    "valores_atipicos = {}\n",
    "\n",
    "#Se detectan los datos atipicos y se guardan\n",
    "for col in columnas_numericas:\n",
    "    if col!=\"Pclass\":\n",
    "        atipicos = detectar_atipicos(df[col])\n",
    "        valores_atipicos[col] = atipicos\n"
   ]
  },
  {
   "cell_type": "code",
   "execution_count": 12,
   "id": "c7aeb06d",
   "metadata": {},
   "outputs": [
    {
     "name": "stdout",
     "output_type": "stream",
     "text": [
      "<class 'pandas.core.frame.DataFrame'>\n",
      "Index: 652 entries, 0 to 890\n",
      "Data columns (total 12 columns):\n",
      " #   Column       Non-Null Count  Dtype  \n",
      "---  ------       --------------  -----  \n",
      " 0   PassengerId  652 non-null    int64  \n",
      " 1   Survived     652 non-null    int64  \n",
      " 2   Pclass       652 non-null    int64  \n",
      " 3   Name         652 non-null    object \n",
      " 4   Sex          652 non-null    object \n",
      " 5   Age          652 non-null    float64\n",
      " 6   SibSp        652 non-null    int64  \n",
      " 7   Parch        652 non-null    int64  \n",
      " 8   Ticket       652 non-null    object \n",
      " 9   Fare         652 non-null    float64\n",
      " 10  Cabin        124 non-null    object \n",
      " 11  Embarked     650 non-null    object \n",
      "dtypes: float64(2), int64(5), object(5)\n",
      "memory usage: 66.2+ KB\n",
      "None\n"
     ]
    }
   ],
   "source": [
    "# Se crea conjunto para almacenar los índices de todas las filas con valores atípicos, de estructura\n",
    "indices_atipicos = set()\n",
    "\n",
    "# Recopilar los índices de las filas atípicas\n",
    "for col,atipicos in valores_atipicos.items():\n",
    "    indices_atipicos.update(atipicos.index)\n",
    "    \n",
    "\n",
    "# Eliminar las filas atípicas usando sus índices\n",
    "df.drop(indices_atipicos, inplace=True, errors='ignore')\n",
    "\n",
    "print(df.info())"
   ]
  },
  {
   "cell_type": "code",
   "execution_count": 13,
   "id": "db29aa68",
   "metadata": {},
   "outputs": [
    {
     "name": "stdout",
     "output_type": "stream",
     "text": [
      "El numero de Valores Atipicos Eliminados es 239\n"
     ]
    }
   ],
   "source": [
    "#numero  de valores atipicos eliminados\n",
    "print(f\"El numero de Valores Atipicos Eliminados es {len(indices_atipicos)}\")"
   ]
  },
  {
   "cell_type": "markdown",
   "id": "5a02c71e",
   "metadata": {},
   "source": [
    "<h2>Analisis Univariado<h2>"
   ]
  },
  {
   "cell_type": "code",
   "execution_count": 14,
   "id": "e2ef8599",
   "metadata": {},
   "outputs": [
    {
     "data": {
      "image/png": "[encoded data removed]",
      "text/plain": [
       "<Figure size 1000x500 with 1 Axes>"
      ]
     },
     "metadata": {},
     "output_type": "display_data"
    }
   ],
   "source": [
    "#Analisis de Edad\n",
    "plt.figure(figsize=(10,5))\n",
    "sns.histplot(df['Age'], bins=30)\n",
    "plt.title('Distribución de Edades')\n",
    "plt.xlabel('Edades')\n",
    "plt.ylabel('Frecuencia')\n",
    "plt.show()"
   ]
  },
  {
   "cell_type": "markdown",
   "id": "9957a360",
   "metadata": {},
   "source": [
    "\n",
    "**Observacion de las Edades**: La distribucion de las Edades indica que la gran mayoria de pasajeros estaban en los 30 años."
   ]
  },
  {
   "cell_type": "code",
   "execution_count": 15,
   "id": "de8c170c",
   "metadata": {},
   "outputs": [
    {
     "data": {
      "image/png": "[encoded data removed]",
      "text/plain": [
       "<Figure size 1000x500 with 1 Axes>"
      ]
     },
     "metadata": {},
     "output_type": "display_data"
    }
   ],
   "source": [
    "#Analisis de los Generos de los pasajeros\n",
    "plt.figure(figsize=(10,5))\n",
    "sns.histplot(df['Sex'], bins=30)\n",
    "plt.title('Distribución de Generos ')\n",
    "plt.xlabel('Generos')\n",
    "plt.ylabel('Frecuencia')\n",
    "plt.show()"
   ]
  },
  {
   "cell_type": "markdown",
   "id": "910c7a7f",
   "metadata": {},
   "source": [
    "\n",
    "**Observacion de las Generos**: La distribucion de las Generos de los pasajeros indica que la gran mayoria de pasajeros eran mas hombres que mujeres"
   ]
  },
  {
   "cell_type": "code",
   "execution_count": 16,
   "id": "031f938c",
   "metadata": {},
   "outputs": [
    {
     "data": {
      "image/png": "[encoded data removed]",
      "text/plain": [
       "<Figure size 1000x500 with 1 Axes>"
      ]
     },
     "metadata": {},
     "output_type": "display_data"
    }
   ],
   "source": [
    "#Analisis de las clases de los pasajeros\n",
    "plt.figure(figsize=(10, 5))\n",
    "sns.countplot(x='Pclass', data=df)\n",
    "plt.title('Distribución de Clases de Pasajeros')\n",
    "plt.xlabel('Clases')\n",
    "plt.ylabel('Frecuencia')\n",
    "plt.show()"
   ]
  },
  {
   "cell_type": "markdown",
   "id": "e1226eda",
   "metadata": {},
   "source": [
    "**Observacion de las Clases de los Pasajeros**: La distribucion de las clases de los pasajeros indica que la gran mayoria de pasajeros pertenecian a la 3 clase del barco. La menos solvente economicamente y que a su vez se hospedaban en la parte baja del la embarcacion."
   ]
  },
  {
   "cell_type": "code",
   "execution_count": 17,
   "id": "0200ead1",
   "metadata": {},
   "outputs": [
    {
     "data": {
      "image/png": "[encoded data removed]",
      "text/plain": [
       "<Figure size 1000x500 with 1 Axes>"
      ]
     },
     "metadata": {},
     "output_type": "display_data"
    }
   ],
   "source": [
    "#Analisis de los precios de los tiquetes de los pasajeros\n",
    "plt.figure(figsize=(10,5))\n",
    "sns.histplot(df['Fare'], bins=30)\n",
    "plt.title('Distribución de Precios de Tiquetes ')\n",
    "plt.xlabel('Precios')\n",
    "plt.ylabel('Frecuencia')\n",
    "plt.show()"
   ]
  },
  {
   "cell_type": "markdown",
   "id": "e40277dc",
   "metadata": {},
   "source": [
    "**Observacion de los Precios de los tiquetes de los Pasajeros**: La distribucion de los precios de los tiquetes de los pasajeros va directamente relacionada a la clase a la que pertenecen, por lo que el precio de la mayoria de los tiquetes eran bajos y pertenecientes a la tercera clase."
   ]
  },
  {
   "cell_type": "markdown",
   "id": "098244a0",
   "metadata": {},
   "source": [
    "<h2>Analisis Multivariado<h2>"
   ]
  },
  {
   "cell_type": "markdown",
   "id": "558dbb5d",
   "metadata": {},
   "source": [
    "<h3>Analisis Sobrevivientes y Edad<h3>"
   ]
  },
  {
   "cell_type": "code",
   "execution_count": 18,
   "id": "c4ada2a6",
   "metadata": {},
   "outputs": [
    {
     "data": {
      "image/png": "[encoded data removed]",
      "text/plain": [
       "<Figure size 1000x600 with 1 Axes>"
      ]
     },
     "metadata": {},
     "output_type": "display_data"
    }
   ],
   "source": [
    "# Crear el gráfico de barras agrupado\n",
    "plt.figure(figsize=(10, 6))\n",
    "sns.countplot(x='Pclass', hue='Survived', data=df, palette=\"viridis\")\n",
    "plt.title('Relación entre Clase y Supervivencia')\n",
    "plt.xlabel('Clase de Pasajeros')\n",
    "plt.ylabel('Número de Pasajeros')\n",
    "plt.legend(title='Sobrevivió', labels=['No (0)', 'Sí (1)'])  #\n",
    "plt.show()\n"
   ]
  },
  {
   "cell_type": "markdown",
   "id": "0eb9598f",
   "metadata": {},
   "source": [
    "***La clase de los pasajeros ejerce una fuerte influencia en la supervivencia de los pasajeros***"
   ]
  },
  {
   "cell_type": "markdown",
   "id": "6b29de35",
   "metadata": {},
   "source": [
    "<h3>Analisis Sobrevivientes y Genero<h3>"
   ]
  },
  {
   "cell_type": "code",
   "execution_count": 19,
   "id": "5dba1322",
   "metadata": {},
   "outputs": [
    {
     "data": {
      "image/png": "[encoded data removed]",
      "text/plain": [
       "<Figure size 1000x600 with 1 Axes>"
      ]
     },
     "metadata": {},
     "output_type": "display_data"
    }
   ],
   "source": [
    "\n",
    "## Crear el gráfico de barras agrupado\n",
    "plt.figure(figsize=(10, 6))\n",
    "sns.countplot(x='Sex', hue='Survived', data=df, palette=\"viridis\")\n",
    "plt.title('Relación entre el Genero y Supervivencia')\n",
    "plt.xlabel('Genero de los Pasajeros')\n",
    "plt.ylabel('Número de Pasajeros')\n",
    "plt.legend(title='Sobrevivió', labels=['No (0)', 'Sí (1)']) \n",
    "plt.show()\n",
    "\n"
   ]
  },
  {
   "cell_type": "markdown",
   "id": "f7fd4871",
   "metadata": {},
   "source": [
    "***Los generos de los Pasajeros influyó de manera directa en la supervivencia de los pasajeros, especialmente en el deceso de una gran cantidad de pasajeros masculinos y supervivencia de los femeninos.***"
   ]
  },
  {
   "cell_type": "markdown",
   "id": "5f3c2fcc",
   "metadata": {},
   "source": [
    "<h2>Modelo de Regresion Logistica <h2>"
   ]
  },
  {
   "cell_type": "markdown",
   "id": "9cf798b3",
   "metadata": {},
   "source": [
    "<h3>Columnas Categoricas<h3>"
   ]
  },
  {
   "cell_type": "code",
   "execution_count": 20,
   "id": "4b51ae96",
   "metadata": {},
   "outputs": [
    {
     "name": "stdout",
     "output_type": "stream",
     "text": [
      "Name\n",
      "Sex\n",
      "Ticket\n",
      "Cabin\n",
      "Embarked\n"
     ]
    }
   ],
   "source": [
    "for col  in columnas_categoricas:\n",
    "    print(col)"
   ]
  },
  {
   "cell_type": "markdown",
   "id": "6fa30edb",
   "metadata": {},
   "source": [
    "Para el entrenamiento del modelo de regresión logistica, seleccionaremos las variables categóricas que han mostrado correlación con la supervivencia de los pasajeros, asegurando que nuestro análisis se enfoque en los factores más influyentes, estas Variables son:  \n",
    "**Sex**"
   ]
  },
  {
   "cell_type": "markdown",
   "id": "5e9f6b70",
   "metadata": {},
   "source": [
    "<h3>Columnas Numericas<h3>"
   ]
  },
  {
   "cell_type": "code",
   "execution_count": 21,
   "id": "61062cc4",
   "metadata": {},
   "outputs": [
    {
     "name": "stdout",
     "output_type": "stream",
     "text": [
      "PassengerId\n",
      "Survived\n",
      "Pclass\n",
      "Age\n",
      "SibSp\n",
      "Parch\n",
      "Fare\n"
     ]
    }
   ],
   "source": [
    "for col  in columnas_numericas:\n",
    "    print(col)"
   ]
  },
  {
   "cell_type": "markdown",
   "id": "d7ea4849",
   "metadata": {},
   "source": [
    "Además, para el desarrollo del modelo de regresión lineal, se elegirán las variables numéricas que han mostrado correlación con la supervivencia de los pasajeros. Las variables seleccionadas son:  \n",
    "**Survived**  \n",
    "**Pclass**  \n",
    "**Age**  \n",
    "**Fare**"
   ]
  },
  {
   "cell_type": "markdown",
   "id": "010919c5",
   "metadata": {},
   "source": [
    "<h3>Convertir Datos Categoricos a Numericos<h3>"
   ]
  },
  {
   "cell_type": "markdown",
   "id": "d6bb4c81",
   "metadata": {},
   "source": [
    "Es importante determinar de antemano los tipos de datos de cada columna puesto que si son datos categoricos deben convertirse en numericos para que el modelo pueda interpretar los datos de la mejor manera."
   ]
  },
  {
   "cell_type": "markdown",
   "id": "a253a9ce",
   "metadata": {},
   "source": [
    "Vamos a convertir **Sex** en columna numerica usando One-Hot-Enconding"
   ]
  },
  {
   "cell_type": "code",
   "execution_count": 22,
   "id": "7bdb8597",
   "metadata": {},
   "outputs": [
    {
     "data": {
      "text/html": [
       "<div>\n",
       "<style scoped>\n",
       "    .dataframe tbody tr th:only-of-type {\n",
       "        vertical-align: middle;\n",
       "    }\n",
       "\n",
       "    .dataframe tbody tr th {\n",
       "        vertical-align: top;\n",
       "    }\n",
       "\n",
       "    .dataframe thead th {\n",
       "        text-align: right;\n",
       "    }\n",
       "</style>\n",
       "<table border=\"1\" class=\"dataframe\">\n",
       "  <thead>\n",
       "    <tr style=\"text-align: right;\">\n",
       "      <th></th>\n",
       "      <th>PassengerId</th>\n",
       "      <th>Survived</th>\n",
       "      <th>Pclass</th>\n",
       "      <th>Name</th>\n",
       "      <th>Age</th>\n",
       "      <th>SibSp</th>\n",
       "      <th>Parch</th>\n",
       "      <th>Ticket</th>\n",
       "      <th>Fare</th>\n",
       "      <th>Cabin</th>\n",
       "      <th>Embarked</th>\n",
       "      <th>Sex_female</th>\n",
       "      <th>Sex_male</th>\n",
       "    </tr>\n",
       "  </thead>\n",
       "  <tbody>\n",
       "    <tr>\n",
       "      <th>0</th>\n",
       "      <td>1</td>\n",
       "      <td>0</td>\n",
       "      <td>3</td>\n",
       "      <td>Braund, Mr. Owen Harris</td>\n",
       "      <td>22.0</td>\n",
       "      <td>1</td>\n",
       "      <td>0</td>\n",
       "      <td>A/5 21171</td>\n",
       "      <td>7.2500</td>\n",
       "      <td>NaN</td>\n",
       "      <td>S</td>\n",
       "      <td>0</td>\n",
       "      <td>True</td>\n",
       "    </tr>\n",
       "    <tr>\n",
       "      <th>1</th>\n",
       "      <td>2</td>\n",
       "      <td>1</td>\n",
       "      <td>1</td>\n",
       "      <td>Cumings, Mrs. John Bradley (Florence Briggs Th...</td>\n",
       "      <td>38.0</td>\n",
       "      <td>1</td>\n",
       "      <td>0</td>\n",
       "      <td>PC 17599</td>\n",
       "      <td>71.2833</td>\n",
       "      <td>C85</td>\n",
       "      <td>C</td>\n",
       "      <td>1</td>\n",
       "      <td>False</td>\n",
       "    </tr>\n",
       "    <tr>\n",
       "      <th>2</th>\n",
       "      <td>3</td>\n",
       "      <td>1</td>\n",
       "      <td>3</td>\n",
       "      <td>Heikkinen, Miss. Laina</td>\n",
       "      <td>26.0</td>\n",
       "      <td>0</td>\n",
       "      <td>0</td>\n",
       "      <td>STON/O2. 3101282</td>\n",
       "      <td>7.9250</td>\n",
       "      <td>NaN</td>\n",
       "      <td>S</td>\n",
       "      <td>1</td>\n",
       "      <td>False</td>\n",
       "    </tr>\n",
       "    <tr>\n",
       "      <th>3</th>\n",
       "      <td>4</td>\n",
       "      <td>1</td>\n",
       "      <td>1</td>\n",
       "      <td>Futrelle, Mrs. Jacques Heath (Lily May Peel)</td>\n",
       "      <td>35.0</td>\n",
       "      <td>1</td>\n",
       "      <td>0</td>\n",
       "      <td>113803</td>\n",
       "      <td>53.1000</td>\n",
       "      <td>C123</td>\n",
       "      <td>S</td>\n",
       "      <td>1</td>\n",
       "      <td>False</td>\n",
       "    </tr>\n",
       "    <tr>\n",
       "      <th>4</th>\n",
       "      <td>5</td>\n",
       "      <td>0</td>\n",
       "      <td>3</td>\n",
       "      <td>Allen, Mr. William Henry</td>\n",
       "      <td>35.0</td>\n",
       "      <td>0</td>\n",
       "      <td>0</td>\n",
       "      <td>373450</td>\n",
       "      <td>8.0500</td>\n",
       "      <td>NaN</td>\n",
       "      <td>S</td>\n",
       "      <td>0</td>\n",
       "      <td>True</td>\n",
       "    </tr>\n",
       "  </tbody>\n",
       "</table>\n",
       "</div>"
      ],
      "text/plain": [
       "   PassengerId  Survived  Pclass  \\\n",
       "0            1         0       3   \n",
       "1            2         1       1   \n",
       "2            3         1       3   \n",
       "3            4         1       1   \n",
       "4            5         0       3   \n",
       "\n",
       "                                                Name   Age  SibSp  Parch  \\\n",
       "0                            Braund, Mr. Owen Harris  22.0      1      0   \n",
       "1  Cumings, Mrs. John Bradley (Florence Briggs Th...  38.0      1      0   \n",
       "2                             Heikkinen, Miss. Laina  26.0      0      0   \n",
       "3       Futrelle, Mrs. Jacques Heath (Lily May Peel)  35.0      1      0   \n",
       "4                           Allen, Mr. William Henry  35.0      0      0   \n",
       "\n",
       "             Ticket     Fare Cabin Embarked  Sex_female  Sex_male  \n",
       "0         A/5 21171   7.2500   NaN        S           0      True  \n",
       "1          PC 17599  71.2833   C85        C           1     False  \n",
       "2  STON/O2. 3101282   7.9250   NaN        S           1     False  \n",
       "3            113803  53.1000  C123        S           1     False  \n",
       "4            373450   8.0500   NaN        S           0      True  "
      ]
     },
     "execution_count": 22,
     "metadata": {},
     "output_type": "execute_result"
    }
   ],
   "source": [
    "df_encoded = pd.get_dummies(df, columns=['Sex'], drop_first=False)\n",
    "\n",
    "\n",
    "# Guardar el DataFrame modificado\n",
    "df.to_csv('archivo_modificado.csv', index=False)\n",
    "\n",
    "#Convertir  a entero(1 o 0)\n",
    "df_encoded['Sex_female'] = df_encoded['Sex_female'].astype(int)\n",
    "\n",
    "#Verificamos la creacion de ambas Columnas\n",
    "df_encoded.head()\n",
    "\n"
   ]
  },
  {
   "cell_type": "markdown",
   "id": "f8c9cf00",
   "metadata": {},
   "source": [
    "<h3>Caracteristicas a usar en el Modelo<h3>"
   ]
  },
  {
   "cell_type": "code",
   "execution_count": 23,
   "id": "57e97ed3",
   "metadata": {},
   "outputs": [
    {
     "data": {
      "text/html": [
       "<div>\n",
       "<style scoped>\n",
       "    .dataframe tbody tr th:only-of-type {\n",
       "        vertical-align: middle;\n",
       "    }\n",
       "\n",
       "    .dataframe tbody tr th {\n",
       "        vertical-align: top;\n",
       "    }\n",
       "\n",
       "    .dataframe thead th {\n",
       "        text-align: right;\n",
       "    }\n",
       "</style>\n",
       "<table border=\"1\" class=\"dataframe\">\n",
       "  <thead>\n",
       "    <tr style=\"text-align: right;\">\n",
       "      <th></th>\n",
       "      <th>Survived</th>\n",
       "      <th>Pclass</th>\n",
       "      <th>Age</th>\n",
       "      <th>Fare</th>\n",
       "      <th>Sex_female</th>\n",
       "    </tr>\n",
       "  </thead>\n",
       "  <tbody>\n",
       "    <tr>\n",
       "      <th>0</th>\n",
       "      <td>0</td>\n",
       "      <td>3</td>\n",
       "      <td>22.0</td>\n",
       "      <td>7.2500</td>\n",
       "      <td>0</td>\n",
       "    </tr>\n",
       "    <tr>\n",
       "      <th>1</th>\n",
       "      <td>1</td>\n",
       "      <td>1</td>\n",
       "      <td>38.0</td>\n",
       "      <td>71.2833</td>\n",
       "      <td>1</td>\n",
       "    </tr>\n",
       "    <tr>\n",
       "      <th>2</th>\n",
       "      <td>1</td>\n",
       "      <td>3</td>\n",
       "      <td>26.0</td>\n",
       "      <td>7.9250</td>\n",
       "      <td>1</td>\n",
       "    </tr>\n",
       "    <tr>\n",
       "      <th>3</th>\n",
       "      <td>1</td>\n",
       "      <td>1</td>\n",
       "      <td>35.0</td>\n",
       "      <td>53.1000</td>\n",
       "      <td>1</td>\n",
       "    </tr>\n",
       "    <tr>\n",
       "      <th>4</th>\n",
       "      <td>0</td>\n",
       "      <td>3</td>\n",
       "      <td>35.0</td>\n",
       "      <td>8.0500</td>\n",
       "      <td>0</td>\n",
       "    </tr>\n",
       "    <tr>\n",
       "      <th>...</th>\n",
       "      <td>...</td>\n",
       "      <td>...</td>\n",
       "      <td>...</td>\n",
       "      <td>...</td>\n",
       "      <td>...</td>\n",
       "    </tr>\n",
       "    <tr>\n",
       "      <th>884</th>\n",
       "      <td>0</td>\n",
       "      <td>3</td>\n",
       "      <td>25.0</td>\n",
       "      <td>7.0500</td>\n",
       "      <td>0</td>\n",
       "    </tr>\n",
       "    <tr>\n",
       "      <th>886</th>\n",
       "      <td>0</td>\n",
       "      <td>2</td>\n",
       "      <td>27.0</td>\n",
       "      <td>13.0000</td>\n",
       "      <td>0</td>\n",
       "    </tr>\n",
       "    <tr>\n",
       "      <th>887</th>\n",
       "      <td>1</td>\n",
       "      <td>1</td>\n",
       "      <td>19.0</td>\n",
       "      <td>30.0000</td>\n",
       "      <td>1</td>\n",
       "    </tr>\n",
       "    <tr>\n",
       "      <th>889</th>\n",
       "      <td>1</td>\n",
       "      <td>1</td>\n",
       "      <td>26.0</td>\n",
       "      <td>30.0000</td>\n",
       "      <td>0</td>\n",
       "    </tr>\n",
       "    <tr>\n",
       "      <th>890</th>\n",
       "      <td>0</td>\n",
       "      <td>3</td>\n",
       "      <td>32.0</td>\n",
       "      <td>7.7500</td>\n",
       "      <td>0</td>\n",
       "    </tr>\n",
       "  </tbody>\n",
       "</table>\n",
       "<p>652 rows × 5 columns</p>\n",
       "</div>"
      ],
      "text/plain": [
       "     Survived  Pclass   Age     Fare  Sex_female\n",
       "0           0       3  22.0   7.2500           0\n",
       "1           1       1  38.0  71.2833           1\n",
       "2           1       3  26.0   7.9250           1\n",
       "3           1       1  35.0  53.1000           1\n",
       "4           0       3  35.0   8.0500           0\n",
       "..        ...     ...   ...      ...         ...\n",
       "884         0       3  25.0   7.0500           0\n",
       "886         0       2  27.0  13.0000           0\n",
       "887         1       1  19.0  30.0000           1\n",
       "889         1       1  26.0  30.0000           0\n",
       "890         0       3  32.0   7.7500           0\n",
       "\n",
       "[652 rows x 5 columns]"
      ]
     },
     "execution_count": 23,
     "metadata": {},
     "output_type": "execute_result"
    }
   ],
   "source": [
    "df_final=df_encoded[['Survived','Pclass','Age','Fare','Sex_female']]\n",
    "df_final"
   ]
  },
  {
   "cell_type": "markdown",
   "id": "2e3b907b",
   "metadata": {},
   "source": [
    "<h3>Entrenamiento del Modelo<h3>"
   ]
  },
  {
   "cell_type": "code",
   "execution_count": 24,
   "id": "599f4980",
   "metadata": {},
   "outputs": [
    {
     "name": "stdout",
     "output_type": "stream",
     "text": [
      "Precisión del modelo: 0.77\n",
      "              precision    recall  f1-score   support\n",
      "\n",
      "           0       0.85      0.81      0.83        90\n",
      "           1       0.62      0.68      0.65        41\n",
      "\n",
      "    accuracy                           0.77       131\n",
      "   macro avg       0.74      0.75      0.74       131\n",
      "weighted avg       0.78      0.77      0.77       131\n",
      "\n"
     ]
    }
   ],
   "source": [
    "# Entrenar un modelo de regresión logística\n",
    "from sklearn.model_selection import train_test_split\n",
    "from sklearn.linear_model import LogisticRegression\n",
    "from sklearn.metrics import accuracy_score\n",
    "\n",
    "# Reporte de clasificación\n",
    "from sklearn.metrics import classification_report\n",
    "\n",
    "\n",
    "# Definir las variables predictoras y la variable objetivo\n",
    "X = df_final.drop('Survived', axis=1)\n",
    "y = df_final['Survived']\n",
    "\n",
    "# Normalizar y escalar los datos\n",
    "from sklearn.preprocessing import StandardScaler\n",
    "\n",
    "scaler = StandardScaler()\n",
    "\n",
    "X_scaled = scaler.fit_transform(X)\n",
    "\n",
    "# Dividir los datos en conjuntos de entrenamiento y prueba\n",
    "X_train, X_test, y_train, y_test = train_test_split(X_scaled, y, test_size=0.2, random_state=24)\n",
    "\n",
    "# Crear un modelo de regresión logística\n",
    "model = LogisticRegression()\n",
    "\n",
    "# Entrenar el modelo\n",
    "model.fit(X_train, y_train)\n",
    "\n",
    "# Realizar predicciones\n",
    "y_pred = model.predict(X_test)\n",
    "\n",
    "# Calcular la precisión del modelo\n",
    "accuracy = accuracy_score(y_test, y_pred)\n",
    "print(f'Precisión del modelo: {accuracy:.2f}')\n",
    "\n",
    "# Reporte de clasificación\n",
    "print(classification_report(y_test, y_pred))"
   ]
  },
  {
   "cell_type": "code",
   "execution_count": 27,
   "id": "37cc88df",
   "metadata": {},
   "outputs": [
    {
     "data": {
      "image/png": "[encoded data removed]",
      "text/plain": [
       "<Figure size 600x400 with 2 Axes>"
      ]
     },
     "metadata": {},
     "output_type": "display_data"
    }
   ],
   "source": [
    "# Matriz de confusión\n",
    "from sklearn.metrics import confusion_matrix\n",
    "\n",
    "conf_matrix = confusion_matrix(y_test, y_pred)\n",
    "plt.figure(figsize=(6, 4))\n",
    "sns.heatmap(conf_matrix, annot=True, fmt='d', cmap='Blues')\n",
    "plt.xlabel('Predicción')\n",
    "plt.ylabel('Valor Real')\n",
    "plt.title('Matriz de Confusión', fontsize=16, fontweight='bold')\n",
    "plt.show()\n"
   ]
  },
  {
   "cell_type": "code",
   "execution_count": 28,
   "id": "f5d52a97",
   "metadata": {},
   "outputs": [
    {
     "name": "stderr",
     "output_type": "stream",
     "text": [
      "C:\\Users\\Lenovo\\AppData\\Local\\Temp\\ipykernel_5752\\2023867300.py:6: FutureWarning: \n",
      "\n",
      "Passing `palette` without assigning `hue` is deprecated and will be removed in v0.14.0. Assign the `y` variable to `hue` and set `legend=False` for the same effect.\n",
      "\n",
      "  sns.barplot(x=model.coef_[0], y=X.columns, palette='viridis')\n"
     ]
    },
    {
     "data": {
      "image/png": "[encoded data removed]",
      "text/plain": [
       "<Figure size 800x600 with 1 Axes>"
      ]
     },
     "metadata": {},
     "output_type": "display_data"
    }
   ],
   "source": [
    "# Letra Palatino Linotype para todas las graficas\n",
    "plt.rcParams['font.family'] = 'Palatino Linotype'\n",
    "\n",
    "# Crear un gráfico de barras para visualizar los coeficientes del modelo\n",
    "plt.figure(figsize=(8, 6))\n",
    "sns.barplot(x=model.coef_[0], y=X.columns, palette='viridis')\n",
    "plt.title('Coeficientes del Modelo de Regresión Logística', fontsize=16, fontweight='bold')\n",
    "plt.xlabel('Coeficiente', fontsize=14)\n",
    "plt.ylabel('Variable', fontsize=14)\n",
    "plt.show()"
   ]
  },
  {
   "cell_type": "markdown",
   "id": "94fb6a25",
   "metadata": {},
   "source": [
    "<h3>Interpretacion y Analisis de Resultados<h3>"
   ]
  },
  {
   "cell_type": "markdown",
   "id": "0c4ab2d7",
   "metadata": {},
   "source": [
    "**Métricas del modelo para la clase \"1\" (sobrevivió):**\n",
    "\n",
    "**Precisión:**\n",
    "La precisión mide la proporción de predicciones positivas verdaderas entre todas las predicciones positivas realizadas por el modelo.\n",
    "Aquí, la precisión para la clase \"1\" (sobrevivió) es 0.62, lo que significa que el 62% de las personas clasificadas como sobrevivientes realmente sobrevivieron.\n",
    "\n",
    "**Recall (Sensibilidad):**\n",
    "El recall mide la proporción de predicciones positivas verdaderas entre todas las instancias positivas reales en el conjunto de datos.\n",
    "Aquí, el recall para la clase \"1\" (sobrevivió) es 0.68, lo que indica que el modelo identificó correctamente al 68% de todos los sobrevivientes.\n",
    "\n",
    "**F1 Score:**\n",
    "El F1-score es la media armónica de precisión y recall. Proporciona una métrica equilibrada para evaluar el desempeño del modelo, especialmente en casos de clases desbalanceadas.\n",
    "Aquí, el F1-score para la clase \"1\" (sobrevivió) es 0.65, lo que refleja un equilibrio moderado entre precisión y recall.\n",
    "\n"
   ]
  },
  {
   "cell_type": "markdown",
   "id": "f2f5d4ba",
   "metadata": {},
   "source": [
    "**Matriz de Confusión (interpretación):**  \n",
    "\n",
    "**Verdaderos negativos (Clase 0 predicha correctamente como no sobrevivió):**\n",
    "El modelo clasificó correctamente 73 personas que no sobrevivieron al Titanic.\n",
    "\n",
    "**Verdaderos positivos (Clase 1 predicha correctamente como sobrevivió):**\n",
    "El modelo clasificó correctamente 28 personas que sobrevivieron al Titanic.\n",
    "\n",
    "**Falsos positivos (Clase 0 clasificada incorrectamente como Clase 1):**\n",
    "El modelo clasificó incorrectamente como sobrevivientes a 17 personas que no sobrevivieron.\n",
    "\n",
    "**Falsos negativos (Clase 1 clasificada incorrectamente como Clase 0):**\n",
    "El modelo clasificó incorrectamente como no sobrevivientes a 13 personas que realmente sobrevivieron."
   ]
  },
  {
   "cell_type": "code",
   "execution_count": null,
   "id": "f1269c2c",
   "metadata": {},
   "outputs": [],
   "source": []
  }
 ],
 "metadata": {
  "kernelspec": {
   "display_name": "Python 3 (ipykernel)",
   "language": "python",
   "name": "python3"
  },
  "language_info": {
   "codemirror_mode": {
    "name": "ipython",
    "version": 3
   },
   "file_extension": ".py",
   "mimetype": "text/x-python",
   "name": "python",
   "nbconvert_exporter": "python",
   "pygments_lexer": "ipython3",
   "version": "3.12.3"
  }
 },
 "nbformat": 4,
 "nbformat_minor": 5
}
